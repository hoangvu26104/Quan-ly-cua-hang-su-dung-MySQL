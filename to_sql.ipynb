{
 "cells": [
  {
   "cell_type": "code",
   "execution_count": 5,
   "metadata": {},
   "outputs": [
    {
     "name": "stdout",
     "output_type": "stream",
     "text": [
      "Đã đẩy dữ liệu từ CSV vào MySQL thành công.\n"
     ]
    }
   ],
   "source": [
    "import pandas as pd\n",
    "import mysql.connector\n",
    "\n",
    "# Kết nối đến cơ sở dữ liệu MySQL\n",
    "def connect_to_mysql(host, user, password, database, port):\n",
    "    try:\n",
    "        conn = mysql.connector.connect(\n",
    "            host=host,\n",
    "            user=user,\n",
    "            password=password,\n",
    "            database=database,\n",
    "            port=port\n",
    "        )\n",
    "        return conn\n",
    "    except mysql.connector.Error as err:\n",
    "        print(f\"Lỗi kết nối đến MySQL: {err}\")\n",
    "        return None\n",
    "\n",
    "# Đọc dữ liệu từ file CSV và đẩy vào MySQL\n",
    "def push_csv_to_mysql(csv_file, table_name, conn):\n",
    "    try:\n",
    "        df = pd.read_csv(csv_file)\n",
    "        \n",
    "        # Thay thế các giá trị NaN bằng chuỗi trống\n",
    "        df = df.fillna('')\n",
    "\n",
    "        cursor = conn.cursor()\n",
    "        \n",
    "        # Xóa bảng nếu tồn tại\n",
    "        cursor.execute(f\"DROP TABLE IF EXISTS {table_name}\")\n",
    "        \n",
    "        # Tạo bảng mới với các cột từ file CSV\n",
    "        create_table_query = f\"CREATE TABLE {table_name} (\"\n",
    "        for column in df.columns:\n",
    "            create_table_query += f\"{column} VARCHAR(255),\"\n",
    "        create_table_query = create_table_query[:-1] + \")\"\n",
    "        cursor.execute(create_table_query)\n",
    "        \n",
    "        # Đẩy dữ liệu vào bảng\n",
    "        for row in df.itertuples(index=False):\n",
    "            placeholders = ', '.join(['%s'] * len(row))\n",
    "            query = f\"INSERT INTO {table_name} VALUES ({placeholders})\"\n",
    "            cursor.execute(query, tuple(row))\n",
    "        \n",
    "        conn.commit()\n",
    "        cursor.close()\n",
    "        print(\"Đã đẩy dữ liệu từ CSV vào MySQL thành công.\")\n",
    "    except Exception as e:\n",
    "        print(\"Lỗi khi đẩy dữ liệu từ CSV vào MySQL:\", e)\n",
    "        conn.rollback()\n",
    "    finally:\n",
    "        if conn.is_connected():\n",
    "            conn.close()\n",
    "\n",
    "# Thay các thông tin kết nối và tên file CSV tại đây\n",
    "host = \"monorail.proxy.rlwy.net\"\n",
    "user = \"root\"\n",
    "password = \"xIbazQgoTOmqlVFBFVpELtNnscUXRTfq\"\n",
    "database = \"railway\"\n",
    "port = 45681\n",
    "#Thay tên file csv\n",
    "csv_file = 'product.csv'\n",
    "#Thay tên table \n",
    "table_name = 'san_pham'\n",
    "\n",
    "# Kết nối đến MySQL\n",
    "conn = connect_to_mysql(host, user, password, database, port)\n",
    "if conn:\n",
    "    # Đẩy dữ liệu từ CSV vào MySQL\n",
    "    push_csv_to_mysql(csv_file, table_name, conn)\n",
    "else:\n",
    "    print(\"Không thể kết nối đến MySQL.\")\n"
   ]
  }
 ],
 "metadata": {
  "kernelspec": {
   "display_name": "Python 3",
   "language": "python",
   "name": "python3"
  },
  "language_info": {
   "codemirror_mode": {
    "name": "ipython",
    "version": 3
   },
   "file_extension": ".py",
   "mimetype": "text/x-python",
   "name": "python",
   "nbconvert_exporter": "python",
   "pygments_lexer": "ipython3",
   "version": "3.10.11"
  }
 },
 "nbformat": 4,
 "nbformat_minor": 2
}
